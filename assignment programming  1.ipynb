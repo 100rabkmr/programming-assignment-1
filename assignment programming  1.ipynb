{
 "cells": [
  {
   "cell_type": "markdown",
   "id": "1127a11e",
   "metadata": {},
   "source": [
    "\n",
    "# assignment programming "
   ]
  },
  {
   "cell_type": "code",
   "execution_count": 6,
   "id": "e492ce60",
   "metadata": {},
   "outputs": [
    {
     "name": "stdout",
     "output_type": "stream",
     "text": [
      "Hello Python\n"
     ]
    }
   ],
   "source": [
    "# 1. Write a Python program to print \"Hello Python\"?\n",
    "\n",
    "print(\"Hello Python\")\n"
   ]
  },
  {
   "cell_type": "code",
   "execution_count": 7,
   "id": "63f785d2",
   "metadata": {},
   "outputs": [
    {
     "name": "stdout",
     "output_type": "stream",
     "text": [
      "Enter the first value: 45\n",
      "Enter the second value: 9\n",
      "54\n",
      "5.0\n"
     ]
    }
   ],
   "source": [
    "# 2. Write a Python program to do arithmetical operations addition and division.?\n",
    "\n",
    "var_1=int(input(\"Enter the first value: \"))\n",
    "var_2=int(input(\"Enter the second value: \"))\n",
    "print(var_1+var_2)\n",
    "print(var_1/var_2)\n"
   ]
  },
  {
   "cell_type": "code",
   "execution_count": 9,
   "id": "10d8ed23",
   "metadata": {},
   "outputs": [
    {
     "name": "stdout",
     "output_type": "stream",
     "text": [
      "17.5\n"
     ]
    }
   ],
   "source": [
    "# 3. Write a Python program to find the area of a triangle?\n",
    "\n",
    "#using def function\n",
    "def area_of_triangle(b,h):\n",
    "    area=(b*h)/2\n",
    "    print(area)\n",
    "area_of_triangle(5,7)    "
   ]
  },
  {
   "cell_type": "code",
   "execution_count": 11,
   "id": "665b0007",
   "metadata": {},
   "outputs": [
    {
     "name": "stdout",
     "output_type": "stream",
     "text": [
      "Enter value of first variable: saurabh\n",
      "Enter value of second variable: pooja\n",
      "Before swapping:\n",
      "a = saurabh\n",
      "b = pooja\n",
      "\n",
      "After swapping:\n",
      "a = pooja\n",
      "b = saurabh\n"
     ]
    }
   ],
   "source": [
    "# 4. Write a Python program to swap two variables?\n",
    "\n",
    "# Take input for two variables\n",
    "a = input(\"Enter value of first variable: \")\n",
    "b = input(\"Enter value of second variable: \")\n",
    "\n",
    "print(\"Before swapping:\")\n",
    "print(\"a =\", a)\n",
    "print(\"b =\", b)\n",
    "\n",
    "# Swapping using a temporary variable\n",
    "temp = a\n",
    "a = b\n",
    "b = temp\n",
    "\n",
    "print(\"\\nAfter swapping:\")\n",
    "print(\"a =\", a)\n",
    "print(\"b =\", b)"
   ]
  },
  {
   "cell_type": "code",
   "execution_count": 13,
   "id": "bcaedb71",
   "metadata": {},
   "outputs": [
    {
     "name": "stdout",
     "output_type": "stream",
     "text": [
      "Random number between 0 and 1: 0.36157564412908205\n",
      "Random integer between 1 and 100: 16\n",
      "Random float between 1.0 and 10.0: 8.794187539363135\n"
     ]
    }
   ],
   "source": [
    "# 5. Write a Python program to generate a random number?\n",
    "\n",
    "\n",
    "import random\n",
    "\n",
    "# Generate a random number between 0 and 1\n",
    "random_number = random.random()\n",
    "print(\"Random number between 0 and 1:\", random_number)\n",
    "\n",
    "# Generate a random integer between a specified range\n",
    "random_int = random.randint(1, 100)  # Random integer between 1 and 100\n",
    "print(\"Random integer between 1 and 100:\", random_int)\n",
    "\n",
    "# Generate a random floating-point number within a specified range\n",
    "random_float = random.uniform(1.0, 10.0)  # Random float between 1.0 and 10.0\n",
    "print(\"Random float between 1.0 and 10.0:\", random_float)\n"
   ]
  },
  {
   "cell_type": "code",
   "execution_count": null,
   "id": "dda6220c",
   "metadata": {},
   "outputs": [],
   "source": []
  }
 ],
 "metadata": {
  "kernelspec": {
   "display_name": "Python 3 (ipykernel)",
   "language": "python",
   "name": "python3"
  },
  "language_info": {
   "codemirror_mode": {
    "name": "ipython",
    "version": 3
   },
   "file_extension": ".py",
   "mimetype": "text/x-python",
   "name": "python",
   "nbconvert_exporter": "python",
   "pygments_lexer": "ipython3",
   "version": "3.11.7"
  }
 },
 "nbformat": 4,
 "nbformat_minor": 5
}
